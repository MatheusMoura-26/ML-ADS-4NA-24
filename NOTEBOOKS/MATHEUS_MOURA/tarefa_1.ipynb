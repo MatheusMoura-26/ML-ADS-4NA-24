import numpy as np

valores = [4, 6, 3, 4, 5, 8, 4, 2]

##Crie um notebook que apresente as seguintes informações sobre a lista:

##Valor máximo
##Valor mínimo
##Média aritmética dos valores
##Mediana dos valores
##Desvio padrão dos valores.

print("1. Valor máximo: ", max(valores))
print("2. Valor mínimo: ", min(valores))
##.mean para achar a média
print("3. Média aritmética dos valores: ", np.mean(valores))
#.median para median
print("4. Mediana dos valores: ", np.median(valores))
#.std para desvio padrão
print("5. Desvio padrão dos valores: ", np.std(valores))
